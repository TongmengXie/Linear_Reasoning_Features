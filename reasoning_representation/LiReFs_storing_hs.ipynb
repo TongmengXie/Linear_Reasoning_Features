{
 "cells": [
  {
   "cell_type": "code",
   "execution_count": 19,
   "id": "f2ba05d8",
   "metadata": {},
   "outputs": [
    {
     "name": "stdout",
     "output_type": "stream",
     "text": [
      "Total RAM: 201.34 GB\n",
      "Available RAM: 186.74 GB\n",
      "Used RAM: 12.24 GB\n",
      "RAM Usage: 7.2%\n"
     ]
    },
    {
     "name": "stderr",
     "output_type": "stream",
     "text": [
      "huggingface/tokenizers: The current process just got forked, after parallelism has already been used. Disabling parallelism to avoid deadlocks...\n",
      "To disable this warning, you can either:\n",
      "\t- Avoid using `tokenizers` before the fork if possible\n",
      "\t- Explicitly set the environment variable TOKENIZERS_PARALLELISM=(true | false)\n"
     ]
    },
    {
     "name": "stdout",
     "output_type": "stream",
     "text": [
      "Mon Jul 21 13:53:04 2025       \n",
      "+-----------------------------------------------------------------------------+\n",
      "| NVIDIA-SMI 525.147.05   Driver Version: 525.147.05   CUDA Version: 12.0     |\n",
      "|-------------------------------+----------------------+----------------------+\n",
      "| GPU  Name        Persistence-M| Bus-Id        Disp.A | Volatile Uncorr. ECC |\n",
      "| Fan  Temp  Perf  Pwr:Usage/Cap|         Memory-Usage | GPU-Util  Compute M. |\n",
      "|                               |                      |               MIG M. |\n",
      "|===============================+======================+======================|\n",
      "|   0  NVIDIA A40          Off  | 00000000:3B:00.0 Off |                    0 |\n",
      "|  0%   48C    P0    82W / 300W |   6272MiB / 46068MiB |      0%      Default |\n",
      "|                               |                      |                  N/A |\n",
      "+-------------------------------+----------------------+----------------------+\n",
      "|   1  NVIDIA A40          Off  | 00000000:AF:00.0 Off |                    0 |\n",
      "|  0%   26C    P8    13W / 300W |      2MiB / 46068MiB |      0%      Default |\n",
      "|                               |                      |                  N/A |\n",
      "+-------------------------------+----------------------+----------------------+\n",
      "|   2  NVIDIA A40          Off  | 00000000:D8:00.0 Off |                    0 |\n",
      "|  0%   28C    P8    13W / 300W |      2MiB / 46068MiB |      0%      Default |\n",
      "|                               |                      |                  N/A |\n",
      "+-------------------------------+----------------------+----------------------+\n",
      "                                                                               \n",
      "+-----------------------------------------------------------------------------+\n",
      "| Processes:                                                                  |\n",
      "|  GPU   GI   CI        PID   Type   Process name                  GPU Memory |\n",
      "|        ID   ID                                                   Usage      |\n",
      "|=============================================================================|\n",
      "+-----------------------------------------------------------------------------+\n"
     ]
    }
   ],
   "source": [
    "import psutil\n",
    "\n",
    "# Get total, used, and available memory in GB\n",
    "mem = psutil.virtual_memory()\n",
    "print(f\"Total RAM: {mem.total / 1e9:.2f} GB\")\n",
    "print(f\"Available RAM: {mem.available / 1e9:.2f} GB\")\n",
    "print(f\"Used RAM: {mem.used / 1e9:.2f} GB\")\n",
    "print(f\"RAM Usage: {mem.percent}%\")\n",
    "\n",
    "!nvidia-smi"
   ]
  },
  {
   "cell_type": "code",
   "execution_count": 20,
   "id": "b37ca21a",
   "metadata": {
    "libroFormatter": "formatter-string",
    "tags": []
   },
   "outputs": [
    {
     "name": "stdout",
     "output_type": "stream",
     "text": [
      "Find 3 GPU can be used.\n",
      "GPU 1: NVIDIA A40\n",
      "GPU 2: NVIDIA A40\n",
      "GPU 3: NVIDIA A40\n"
     ]
    }
   ],
   "source": [
    "import torch\n",
    "\n",
    "# 检查CUDA是否可用\n",
    "if torch.cuda.is_available():\n",
    "    gpu_count = torch.cuda.device_count()\n",
    "    print(f\"Find {gpu_count} GPU can be used.\")\n",
    "\n",
    "    for i in range(gpu_count):\n",
    "        gpu_name = torch.cuda.get_device_name(i)\n",
    "        print(f\"GPU {i + 1}: {gpu_name}\")\n",
    "else:\n",
    "    print(\"No GPU can be used.\")\n"
   ]
  },
  {
   "cell_type": "code",
   "execution_count": 21,
   "id": "2be0cff2",
   "metadata": {
    "libroFormatter": "formatter-string",
    "tags": []
   },
   "outputs": [],
   "source": [
    "import copy\n",
    "from nltk.translate.bleu_score import sentence_bleu, SmoothingFunction\n",
    "try:\n",
    "    from rouge import Rouge\n",
    "except:\n",
    "    !pip install rouge\n",
    "    from rouge import Rouge\n",
    "# from bert_score import score\n",
    "import statistics\n",
    "from ast import literal_eval\n",
    "import functools\n",
    "import json\n",
    "import os\n",
    "import random\n",
    "import numpy as np\n",
    "import pandas as pd\n",
    "import torch\n",
    "import torch.nn.functional as F\n",
    "\n",
    "random.seed(8888)\n",
    "torch.manual_seed(8888)\n",
    "random.seed(8888)\n",
    "np.random.seed(8888)\n",
    "\n",
    "if torch.cuda.is_available():\n",
    "    torch.cuda.manual_seed(8888)\n",
    "    torch.cuda.manual_seed_all(8888)\n",
    "\n",
    "\n",
    "from tqdm import tqdm\n",
    "\n",
    "torch.set_grad_enabled(False)\n",
    "tqdm.pandas()"
   ]
  },
  {
   "cell_type": "code",
   "execution_count": 22,
   "id": "c52dfd49",
   "metadata": {},
   "outputs": [
    {
     "data": {
      "text/plain": [
       "'3.11.13 (main, Jun  5 2025, 13:12:00) [GCC 11.2.0]'"
      ]
     },
     "execution_count": 22,
     "metadata": {},
     "output_type": "execute_result"
    }
   ],
   "source": [
    "import sys\n",
    "sys.version"
   ]
  },
  {
   "cell_type": "code",
   "execution_count": 23,
   "id": "c7078d4d",
   "metadata": {
    "libroFormatter": "formatter-string",
    "tags": []
   },
   "outputs": [],
   "source": [
    "torch.cuda.set_device(0)\n",
    "\n",
    "from transformers import AutoModelForCausalLM, AutoTokenizer\n",
    "import json\n",
    "from os.path import join\n",
    "\n",
    "model_dir = \"../models\"\n",
    "# model_name = 'Meta-Llama-3-2B'  #gemma-2-9b-it  gemma-2-9b\n",
    "model_name = 'Llama-3.2-1B'\n",
    "output_dir = '../outputs'\n",
    "dataset_dir = '../dataset'\n",
    "\n",
    "#'Meta-Llama-3-8B-Instruct' #'Llama-2-7b-chat-hf' #'llama-7b' \n",
    "# \"OLMo-7B-Instruct\" olmo-2-1124-7B-Instruct 'OLMo-2-1124-7B'  \"OLMo-7B-0724-Instruct-hf\" olmo1的情况都非常反常，不知道为什么\n",
    "# Qwen-7B, Qwen1.5-7B, Qwen-7B-Chat, Qwen1.5-7B-Chat, Qwen2-7B-Instruct, Qwen2.5-7B-Instruct, Qwen2.5-Coder-7B, Qwen2.5对中文做过优化，情况不太一样\n",
    "# Mistral-7B-Instruct-v0.1, Mistral-7B-Instruct-v0.2, Mistral-7B-Instruct-v0.3, Mistral-7B-v0.3\n",
    "# Yi-1.5-6B-Chat, Yi-6B-Chat\n",
    "# gemma-2-9b-it gemma-7b-it, gemma-2-9b\n",
    "# gpt-j-6b, mpt-7b-chat, opt-6.7b, pythia-6.9b, zephyr-7b-beta, falcon-7b-instruct\n",
    "# deepseek\n",
    "\n",
    "\n",
    "model = AutoModelForCausalLM.from_pretrained(\n",
    "    join(model_dir, model_name),\n",
    "    torch_dtype=torch.float32,\n",
    "    trust_remote_code=True,\n",
    "    local_files_only=True\n",
    ")\n",
    "\n",
    "tokenizer = AutoTokenizer.from_pretrained(join(model_dir, model_name), trust_remote_code=True)\n",
    "\n",
    "if 'llama' in model.config.model_type.lower() or 'mistral' in model.config.model_type.lower() or 'yi' in model.config.model_type.lower() or 'gptj' in model.config.model_type.lower():\n",
    "    tokenizer.pad_token_id = tokenizer.eos_token_id\n",
    "elif 'qwen' in model.config.model_type.lower():\n",
    "    tokenizer.pad_token = '<|endoftext|>'\n",
    "    # in gemma, pad_token_id = 0 is default\n",
    "    # in olmo, pad_token_id = 1 is default\n",
    "    \n",
    "tokenizer.padding_side = \"left\"\n",
    "\n",
    "model.to('cuda');"
   ]
  },
  {
   "cell_type": "code",
   "execution_count": 24,
   "id": "9f7777a9",
   "metadata": {
    "libroFormatter": "formatter-string",
    "tags": []
   },
   "outputs": [
    {
     "name": "stdout",
     "output_type": "stream",
     "text": [
      "model:  LlamaForCausalLM(\n",
      "  (model): LlamaModel(\n",
      "    (embed_tokens): Embedding(128256, 2048)\n",
      "    (layers): ModuleList(\n",
      "      (0-15): 16 x LlamaDecoderLayer(\n",
      "        (self_attn): LlamaAttention(\n",
      "          (q_proj): Linear(in_features=2048, out_features=2048, bias=False)\n",
      "          (k_proj): Linear(in_features=2048, out_features=512, bias=False)\n",
      "          (v_proj): Linear(in_features=2048, out_features=512, bias=False)\n",
      "          (o_proj): Linear(in_features=2048, out_features=2048, bias=False)\n",
      "        )\n",
      "        (mlp): LlamaMLP(\n",
      "          (gate_proj): Linear(in_features=2048, out_features=8192, bias=False)\n",
      "          (up_proj): Linear(in_features=2048, out_features=8192, bias=False)\n",
      "          (down_proj): Linear(in_features=8192, out_features=2048, bias=False)\n",
      "          (act_fn): SiLU()\n",
      "        )\n",
      "        (input_layernorm): LlamaRMSNorm((2048,), eps=1e-05)\n",
      "        (post_attention_layernorm): LlamaRMSNorm((2048,), eps=1e-05)\n",
      "      )\n",
      "    )\n",
      "    (norm): LlamaRMSNorm((2048,), eps=1e-05)\n",
      "    (rotary_emb): LlamaRotaryEmbedding()\n",
      "  )\n",
      "  (lm_head): Linear(in_features=2048, out_features=128256, bias=False)\n",
      ")\n",
      "model.config:  LlamaConfig {\n",
      "  \"architectures\": [\n",
      "    \"LlamaForCausalLM\"\n",
      "  ],\n",
      "  \"attention_bias\": false,\n",
      "  \"attention_dropout\": 0.0,\n",
      "  \"bos_token_id\": 128000,\n",
      "  \"eos_token_id\": 128001,\n",
      "  \"head_dim\": 64,\n",
      "  \"hidden_act\": \"silu\",\n",
      "  \"hidden_size\": 2048,\n",
      "  \"initializer_range\": 0.02,\n",
      "  \"intermediate_size\": 8192,\n",
      "  \"max_position_embeddings\": 131072,\n",
      "  \"mlp_bias\": false,\n",
      "  \"model_type\": \"llama\",\n",
      "  \"num_attention_heads\": 32,\n",
      "  \"num_hidden_layers\": 16,\n",
      "  \"num_key_value_heads\": 8,\n",
      "  \"pretraining_tp\": 1,\n",
      "  \"rms_norm_eps\": 1e-05,\n",
      "  \"rope_scaling\": {\n",
      "    \"factor\": 32.0,\n",
      "    \"high_freq_factor\": 4.0,\n",
      "    \"low_freq_factor\": 1.0,\n",
      "    \"original_max_position_embeddings\": 8192,\n",
      "    \"rope_type\": \"llama3\"\n",
      "  },\n",
      "  \"rope_theta\": 500000.0,\n",
      "  \"tie_word_embeddings\": true,\n",
      "  \"torch_dtype\": \"float32\",\n",
      "  \"transformers_version\": \"4.53.0\",\n",
      "  \"use_cache\": true,\n",
      "  \"vocab_size\": 128256\n",
      "}\n",
      "\n",
      "model.config.model_type.lower():  llama\n"
     ]
    }
   ],
   "source": [
    "print('model: ',model)\n",
    "print('model.config: ',model.config)\n",
    "print('model.config.model_type.lower(): ',model.config.model_type.lower())  # Often provides a string identifier\n",
    "# print('model.config.num_hidden_layers: ',model.config.num_hidden_layers)\n",
    "\n",
    "\n",
    "if 'gptj' in model.config.model_type.lower():\n",
    "    model_layers_num = int(model.config.n_layer)  \n",
    "    mlp_vector_num = 16384\n",
    "    mlp_dim_num = int(model.config.n_embd)\n",
    "    layer_name = 'transformer.h'\n",
    "    mlp_name = 'mlp'\n",
    "    mlp_last_layer_name = 'fc_out'\n",
    "\n",
    "elif 'qwen' in model.config.model_type.lower() and 'qwen2' not in model.config.model_type.lower(): #qwen1, qwen2.5\n",
    "    layer_name = 'transformer.h'\n",
    "    mlp_name = 'mlp'\n",
    "    mlp_last_layer_name = 'w2'\n",
    "    mlp_dim_num = int(model.config.hidden_size)\n",
    "    model_layers_num = int(model.config.num_hidden_layers)\n",
    "    mlp_vector_num = int(model.config.intermediate_size / 2)\n",
    "    \n",
    "else:\n",
    "    model_layers_num = int(model.config.num_hidden_layers)  # on olmo1, olmo2, qwen2, qwen2.5, llama, ...\n",
    "    mlp_vector_num = int(model.config.intermediate_size)\n",
    "    mlp_dim_num = int(model.config.hidden_size)\n",
    "    layer_name = 'model.layers' \n",
    "    mlp_name = 'mlp'\n",
    "    mlp_last_layer_name = 'down_proj'\n",
    "    attn_name = 'self_attn'"
   ]
  },
  {
   "cell_type": "code",
   "execution_count": 25,
   "id": "1c01f3d5",
   "metadata": {
    "libroFormatter": "formatter-string",
    "tags": []
   },
   "outputs": [
    {
     "name": "stdout",
     "output_type": "stream",
     "text": [
      "----------------- Start Answering -------------------\n",
      "layers_to_cache:  [0, 1, 2, 3, 4, 5, 6, 7, 8, 9, 10, 11, 12, 13, 14, 15]\n",
      "----------------- Running no cot Inference (3000 samples MMLU-pro) -------------------\n"
     ]
    },
    {
     "name": "stderr",
     "output_type": "stream",
     "text": [
      "3000it [01:21, 36.77it/s]\n"
     ]
    }
   ],
   "source": [
    "import datasets\n",
    "import json\n",
    "import re\n",
    "import random\n",
    "from datasets import load_from_disk\n",
    "from tqdm import tqdm\n",
    "\n",
    "n_new_tokens = 100\n",
    "NUll_num = 0\n",
    "\n",
    "def form_options(options: list):\n",
    "    option_str = 'Options are:\\n'\n",
    "    opts = ['A', 'B', 'C', 'D', 'E', 'F', 'G', 'H', 'I', 'J']\n",
    "    for opt, o in zip(options, opts):\n",
    "        option_str += f'({o}): {opt}' + '\\n'\n",
    "    return option_str\n",
    "\n",
    "\n",
    "def get_prediction(output):\n",
    "    pattern = r\"answer is \\(?([ABCDEFGHIJ])\\)?\"\n",
    "    match = re.search(pattern, output)\n",
    "    if match:\n",
    "        #print('prediction success: ',match.group(1))\n",
    "        return match.group(1)\n",
    "    else:\n",
    "        #print(\"extraction failed, do a random guess\")\n",
    "        global NUll_num  \n",
    "        NUll_num += 1\n",
    "        return random.choice(['A', 'B', 'C', 'D', 'E', 'F', 'G', 'H', 'I', 'J'])\n",
    "\n",
    "\n",
    "def generate_outputs(questions):\n",
    "    \n",
    "    inputs = tokenizer(questions, return_tensors=\"pt\", padding=\"longest\", return_token_type_ids=False).to('cuda')\n",
    "    input_length = inputs.input_ids.size(1)\n",
    "    output = model(**inputs, output_hidden_states = True)\n",
    "#     Question_input = [[{\"role\": \"user\", \"content\": prompt}] for prompt in questions]\n",
    "#     texts = tokenizer.apply_chat_template(Question_input ,tokenize=False)\n",
    "\n",
    "#     inputs = tokenizer(texts, padding=\"longest\", return_tensors=\"pt\")\n",
    "#     inputs = {key: val.cuda() for key, val in inputs.items()}\n",
    "#     output = model(**inputs, output_hidden_states = True)\n",
    "    \n",
    "    return output\n",
    "\n",
    "def generate_questions(questions):\n",
    "    \n",
    "    inputs = tokenizer(questions, return_tensors=\"pt\", padding=\"longest\", return_token_type_ids=False).to('cuda')\n",
    "    input_length = inputs.input_ids.size(1)\n",
    "    gen_tokens = model.generate(**inputs, max_new_tokens=n_new_tokens, do_sample=False)\n",
    "\n",
    "    gen_text = tokenizer.batch_decode(gen_tokens[:, input_length:], skip_special_tokens=True)\n",
    "    \n",
    "    return gen_text\n",
    "\n",
    "\n",
    "dataset = load_from_disk('../dataset/mmlu-pro')\n",
    "\n",
    "categories = ['computer science', 'math', 'chemistry', 'engineering', 'law', 'biology',\n",
    "              'health', 'physics', 'business', 'philosophy', 'economics', 'other',\n",
    "              'psychology', 'history']\n",
    "\n",
    "per_category_accuracy = {c: [0, 0] for c in categories}\n",
    "success, fail = 0, 0\n",
    "answers = []\n",
    "\n",
    "print('----------------- Start Answering -------------------')\n",
    "queries_batch = []  # 可以测试一下batch or single哪种方式准确率更高，更合适一些 #发现基本是一样的，padding不会对准确率造成影响\n",
    "entry_batch = []\n",
    "\n",
    "batch_size = 4\n",
    "\n",
    "random.seed(8888)\n",
    "\n",
    "test_data = list(dataset['test'])\n",
    "\n",
    "# example: running on 600 samples\n",
    "sampled_data = random.sample(test_data, 600)\n",
    "\n",
    "# layers_to_cache = list(range(model_layers_num))\n",
    "# print('layers_to_cache: ',layers_to_cache)\n",
    "# hs_cache_cot = {}\n",
    "# hs_cache_no_cot = {}\n",
    "\n",
    "# print('----------------- Running no cot Inference -------------------')\n",
    "# for ix, entry in tqdm(enumerate(sampled_data)):\n",
    "        \n",
    "#     query = 'Q: ' + entry['question'] + \"\\nA: \"\n",
    "    \n",
    "#     queries_batch.append(query)\n",
    "    \n",
    "#     if len(queries_batch) == batch_size or ix == len(dataset['test']) - 1:\n",
    "#         output = generate_outputs(queries_batch)\n",
    "        \n",
    "#         for layer in layers_to_cache:\n",
    "#             if layer not in hs_cache_no_cot:\n",
    "#                 hs_cache_no_cot[layer] = output[\"hidden_states\"][layer][: ,-1 , :].cpu() #bs * tok * dims\n",
    "#             else:\n",
    "#                 hs_cache_no_cot[layer] = torch.cat((hs_cache_no_cot[layer], output[\"hidden_states\"][layer][: ,-1 , :].cpu()), dim=0)\n",
    "\n",
    "        \n",
    "#         queries_batch = []\n",
    "#     torch.cuda.empty_cache()\n",
    "# # TODO print('----------------- Running cot Inference -------------------')\n",
    "\n",
    "sampled_data = random.sample(test_data, 3000)\n",
    "\n",
    "layers_to_cache = list(range(model_layers_num))\n",
    "print('layers_to_cache: ',layers_to_cache)\n",
    "# hs_cache_cot = {}\n",
    "hs_cache_no_cot_3000 = {}\n",
    "\n",
    "print('----------------- Running no cot Inference (3000 samples MMLU-pro) -------------------')\n",
    "for ix, entry in tqdm(enumerate(sampled_data)):\n",
    "        \n",
    "    query = 'Q: ' + entry['question'] + \"\\nA: \"\n",
    "    \n",
    "    queries_batch.append(query)\n",
    "    \n",
    "    if len(queries_batch) == batch_size or ix == len(dataset['test']) - 1:\n",
    "        output = generate_outputs(queries_batch)\n",
    "        \n",
    "        for layer in layers_to_cache:\n",
    "            if layer not in hs_cache_no_cot_3000:\n",
    "                hs_cache_no_cot_3000[layer] = output[\"hidden_states\"][layer][: ,-1 , :].cpu() #bs * tok * dims\n",
    "            else:\n",
    "                hs_cache_no_cot_3000[layer] = torch.cat((hs_cache_no_cot_3000[layer], output[\"hidden_states\"][layer][: ,-1 , :].cpu()), dim=0)\n",
    "\n",
    "        \n",
    "        queries_batch = []\n",
    "    torch.cuda.empty_cache()\n"
   ]
  },
  {
   "cell_type": "markdown",
   "id": "908f4e88",
   "metadata": {
    "libroFormatter": "formatter-string",
    "tags": []
   },
   "source": [
    "# **PCA**"
   ]
  },
  {
   "cell_type": "code",
   "execution_count": 26,
   "id": "32ce7773",
   "metadata": {
    "libroCellType": "code",
    "libroFormatter": "formatter-string",
    "tags": []
   },
   "outputs": [],
   "source": [
    "with open('../dataset/mmlu-pro-600samples.json', 'r', encoding='utf-8') as f:\n",
    "    sampled_data = json.load(f)\n",
    "\n",
    "reason_indices = [ix for ix, sample in enumerate(sampled_data) if sample['memory_reason_score'] > 0.5]\n",
    "memory_indices = [ix for ix, sample in enumerate(sampled_data) if sample['memory_reason_score'] <= 0.5]"
   ]
  },
  {
   "cell_type": "code",
   "execution_count": 27,
   "id": "8b8e35f3",
   "metadata": {},
   "outputs": [],
   "source": [
    "import os\n",
    "import json\n",
    "import pandas as pd"
   ]
  },
  {
   "cell_type": "code",
   "execution_count": null,
   "id": "9f9ae57a",
   "metadata": {
    "libroFormatter": "formatter-string",
    "tags": []
   },
   "outputs": [
    {
     "name": "stdout",
     "output_type": "stream",
     "text": [
      "#####Running on ceval_liberal test set\n",
      "The size is 746\n",
      "layers_to_cache_other:  [0, 1, 2, 3, 4, 5, 6, 7, 8, 9, 10, 11, 12, 13, 14, 15]\n"
     ]
    },
    {
     "name": "stderr",
     "output_type": "stream",
     "text": [
      "746it [00:12, 58.87it/s] \n"
     ]
    },
    {
     "name": "stdout",
     "output_type": "stream",
     "text": [
      "#####Running on gsm8k test set\n",
      "The size is 1319\n",
      "layers_to_cache_other:  [0, 1, 2, 3, 4, 5, 6, 7, 8, 9, 10, 11, 12, 13, 14, 15]\n"
     ]
    },
    {
     "name": "stderr",
     "output_type": "stream",
     "text": [
      "1319it [00:26, 50.35it/s]\n"
     ]
    },
    {
     "name": "stdout",
     "output_type": "stream",
     "text": [
      "#####Running on mgsm test set\n",
      "The size is 1245\n",
      "layers_to_cache_other:  [0, 1, 2, 3, 4, 5, 6, 7, 8, 9, 10, 11, 12, 13, 14, 15]\n"
     ]
    },
    {
     "name": "stderr",
     "output_type": "stream",
     "text": [
      "1245it [01:03, 19.52it/s]\n"
     ]
    },
    {
     "name": "stdout",
     "output_type": "stream",
     "text": [
      "#####Running on popqa test set\n",
      "The size is 14267\n",
      "layers_to_cache_other:  [0, 1, 2, 3, 4, 5, 6, 7, 8, 9, 10, 11, 12, 13, 14, 15]\n"
     ]
    },
    {
     "name": "stderr",
     "output_type": "stream",
     "text": [
      "5420it [01:57, 23.38it/s] "
     ]
    }
   ],
   "source": [
    "# loading and running gsm8k or other dataset\n",
    "\n",
    "\n",
    "gsm8k_ds_main = load_from_disk('../dataset/gsm8k/main') \n",
    "gsm8k_ds_main_test = list(gsm8k_ds_main['test'])\n",
    "\n",
    "# mbpp_ds_full = load_from_disk('../dataset/mbpp/full')\n",
    "# mbpp_ds_full_val = list(mbpp_ds_full['validation'])\n",
    "\n",
    "# mbpp_ds_full = load_from_disk('../dataset/mbpp/full')\n",
    "# mbpp_ds_full_test = list(mbpp_ds_full['test'])\n",
    "\n",
    "# example on MGSM, feel free to add other categories in MGSM\n",
    "mgsm_zh = pd.read_csv('../dataset/mgsm/mgsm_zh.tsv', sep='\\t')\n",
    "mgsm_zh_test = mgsm_zh.values.tolist()\n",
    "mgsm_de = pd.read_csv('../dataset/mgsm/mgsm_de.tsv', sep='\\t')\n",
    "mgsm_de_test = mgsm_de.values.tolist()\n",
    "mgsm_bn = pd.read_csv('../dataset/mgsm/mgsm_bn.tsv', sep='\\t')\n",
    "mgsm_bn_test = mgsm_bn.values.tolist()\n",
    "mgsm_ja = pd.read_csv('../dataset/mgsm/mgsm_ja.tsv', sep='\\t')\n",
    "mgsm_ja_test = mgsm_ja.values.tolist()\n",
    "mgsm_te = pd.read_csv('../dataset/mgsm/mgsm_te.tsv', sep='\\t')\n",
    "mgsm_te_test = mgsm_te.values.tolist()\n",
    "\n",
    "\n",
    "# example on C-Eval, feel free to add other categories in C-Eval\n",
    "ceval_chi = pd.read_csv('../dataset/ceval-exam/test/chinese_language_and_literature_test.csv')['question']\n",
    "ceval_chi_test = ceval_chi.tolist()\n",
    "ceval_his = pd.read_csv('../dataset/ceval-exam/test/high_school_history_test.csv')['question']\n",
    "ceval_his_test = ceval_his.tolist()\n",
    "ceval_pol = pd.read_csv('../dataset/ceval-exam/test/high_school_politics_test.csv')['question']\n",
    "ceval_pol_test = ceval_pol.tolist()\n",
    "ceval_mar = pd.read_csv('../dataset/ceval-exam/test/marxism_test.csv')['question']\n",
    "ceval_mar_test = ceval_mar.tolist()\n",
    "ceval_bus = pd.read_csv('../dataset/ceval-exam/test/business_administration_test.csv')['question']\n",
    "ceval_bus_test = ceval_bus.tolist()\n",
    "\n",
    "popqa_test = load_from_disk('../dataset/PopQA/test') \n",
    "popqa_test = list(popqa_test)\n",
    "\n",
    "\n",
    "# def load_jsonl_file(jsonl_path, max_samples=None):\n",
    "#     \"\"\"Loads .jsonl files line by line.\"\"\"\n",
    "#     with open(jsonl_path, 'r', encoding='utf-8') as f:\n",
    "#         lines = f.readlines()\n",
    "#     data = [json.loads(line) for line in lines]\n",
    "#     return data if max_samples is None else data[:max_samples]\n",
    "\n",
    "# def load_gsm_symbolic_data(base_dir, max_samples_per_file=200):\n",
    "#     \"\"\"Loads multiple JSONL files from gsm-symbolic_data.\"\"\"\n",
    "#     combined = []\n",
    "#     for fname in [\"GSM_p1.jsonl\", \"GSM_p2.jsonl\", \"GSM_symbolic.jsonl\"]:\n",
    "#         path = os.path.join(base_dir, fname)\n",
    "#         if os.path.exists(path):\n",
    "#             combined.extend(load_jsonl_file(path, max_samples_per_file))\n",
    "#     return combined\n",
    "\n",
    "# # --- Paths (adjust if needed) ---\n",
    "# DATASET_ROOT = \"../dataset\"\n",
    "\n",
    "# gsm_sym_data = load_gsm_symbolic_data(os.path.join(DATASET_ROOT, \"gsm-symbolic_data\"))\n",
    "# human_eval_path = os.path.join(DATASET_ROOT, \"HumanEval\", \"HumanEval.jsonl\")\n",
    "# human_eval_data = load_jsonl_file(human_eval_path, max_samples=600)\n",
    "\n",
    "# print(f\"Loaded {len(gsm_sym_data)} samples from GSM Symbolic\")\n",
    "# print(f\"Loaded {len(human_eval_data)} samples from HumanEval\")\n",
    "\n",
    "\n",
    "# other_running_set_name_list = ['ceval_liberal', 'gsm8k', 'mgsm', 'popqa', 'gsm-symbolic', 'human_eval', 'human_eval', 'mbpp'] # mbpp,, hoppingtoolate， , 'mbpp', 'popqa',\n",
    "# other_running_set_name_list = [ 'gsm-symbolic', 'human_eval', 'human_eval', 'mbpp']\n",
    "other_running_set_name_list = ['ceval_liberal', 'gsm8k', 'mgsm', 'popqa'] # mbpp,, hoppingtoolate， , 'mbpp', 'popqa',\n",
    "\n",
    "\n",
    "other_dataset = None\n",
    "\n",
    "hs_cache_no_cot_other_all = {}\n",
    "\n",
    "for other_running_set_name in other_running_set_name_list:\n",
    "    \n",
    "    if other_running_set_name == 'mbpp':\n",
    "        other_dataset = mbpp_ds_full_test\n",
    "    elif other_running_set_name == 'gsm8k':\n",
    "        other_dataset = gsm8k_ds_main_test\n",
    "    elif other_running_set_name == 'mgsm': #multilingual gsm8k\n",
    "        other_dataset = mgsm_zh_test + mgsm_de_test + mgsm_bn_test + mgsm_ja_test + mgsm_te_test\n",
    "    elif other_running_set_name == 'ceval_liberal':\n",
    "        other_dataset = ceval_chi_test + ceval_his_test + ceval_pol_test + ceval_mar_test # + ceval_bus_test\n",
    "    elif other_running_set_name == 'popqa': #multilingual gsm8k\n",
    "        other_dataset = popqa_test\n",
    "    elif other_running_set_name == 'gsm-symbolic':\n",
    "        other_dataset = gsm_sym_data\n",
    "    elif other_running_set_name == 'human_eval':\n",
    "        other_dataset = human_eval_data\n",
    "    elif other_running_set_name == 'gsm_symbolic':\n",
    "        other_dataset = gsm_sym_data\n",
    "\n",
    "\n",
    "    print(f'#####Running on {other_running_set_name} test set')\n",
    "    print(f'The size is {len(other_dataset)}')\n",
    "\n",
    "    layers_to_cache_other = list(range(model_layers_num))\n",
    "    print('layers_to_cache_other: ',layers_to_cache_other)\n",
    "    hs_cache_no_cot_other = {}\n",
    "    queries_batch = []\n",
    "    batch_size = 4\n",
    "\n",
    "    for ix, entry in tqdm(enumerate(other_dataset)):\n",
    "\n",
    "        if other_running_set_name == 'gsm8k':\n",
    "            query = 'Q: ' + entry['question'] + \"\\nA: \"\n",
    "        elif other_running_set_name == 'mbpp':\n",
    "            query = 'Q: ' + entry['text'] + \"\\nA: \"\n",
    "        elif other_running_set_name == 'mgsm':\n",
    "            query = 'Q: ' + entry[0] + \"\\nA: \"\n",
    "        elif other_running_set_name == 'ceval_liberal':\n",
    "            query = 'Q: ' + entry + \"\\nA: \"\n",
    "        elif other_running_set_name == 'popqa':\n",
    "            query = 'Q: ' + entry['question'] + \"\\nA: \"\n",
    "\n",
    "        queries_batch.append(query)\n",
    "\n",
    "        if len(queries_batch) == batch_size or ix == len(other_dataset) - 1:\n",
    "            output = generate_outputs(queries_batch)\n",
    "\n",
    "            for layer in layers_to_cache_other:\n",
    "                if layer not in hs_cache_no_cot_other:\n",
    "                    hs_cache_no_cot_other[layer] = output[\"hidden_states\"][layer][: ,-1 , :].cpu() #bs * tok * dims\n",
    "                else:\n",
    "                    hs_cache_no_cot_other[layer] = torch.cat((hs_cache_no_cot_other[layer], output[\"hidden_states\"][layer][: ,-1 , :].cpu()), dim=0)\n",
    "\n",
    "            queries_batch = []\n",
    "        torch.cuda.empty_cache()\n",
    "\n",
    "    hs_cache_no_cot_other_all[other_running_set_name] = hs_cache_no_cot_other\n"
   ]
  },
  {
   "cell_type": "code",
   "execution_count": null,
   "id": "0b9c896a",
   "metadata": {},
   "outputs": [],
   "source": [
    "hs_cache_no_cot_other_all['mmlu-pro_600'] = hs_cache_no_cot\n",
    "hs_cache_no_cot_other_all['mmlu-pro_3000'] = hs_cache_no_cot_3000\n"
   ]
  },
  {
   "cell_type": "markdown",
   "id": "3a7d1e23",
   "metadata": {},
   "source": [
    "# Let's take a look at the output vector shape"
   ]
  },
  {
   "cell_type": "code",
   "execution_count": null,
   "id": "bb5362f9",
   "metadata": {},
   "outputs": [],
   "source": [
    "for k, v in hs_cache_no_cot_other_all.items():\n",
    "    print(f\"{k} shape: {v[0].shape}\")"
   ]
  },
  {
   "cell_type": "markdown",
   "id": "cd05ad31",
   "metadata": {},
   "source": [
    "# Let's take a look at the dataset"
   ]
  },
  {
   "cell_type": "code",
   "execution_count": null,
   "id": "ff6a353d",
   "metadata": {},
   "outputs": [],
   "source": [
    "# pd.DataFrame(gsm8k_ds_main['train']).head()\n",
    "pd.DataFrame(gsm_sym_data).head()"
   ]
  },
  {
   "cell_type": "code",
   "execution_count": null,
   "id": "4a1e6a8d",
   "metadata": {},
   "outputs": [],
   "source": [
    "pd.DataFrame(other_dataset).head()"
   ]
  },
  {
   "cell_type": "code",
   "execution_count": null,
   "id": "da9b7048",
   "metadata": {},
   "outputs": [],
   "source": [
    "list(hs_cache_no_cot_other_all.keys())"
   ]
  },
  {
   "cell_type": "markdown",
   "id": "c6a29081",
   "metadata": {},
   "source": [
    "# save vectors"
   ]
  },
  {
   "cell_type": "code",
   "execution_count": null,
   "id": "24aa5605",
   "metadata": {
    "tags": []
   },
   "outputs": [],
   "source": [
    "save_path = '../reasoning_representations_outputs'\n",
    "os.makedirs(save_path, exist_ok=True)  \n",
    "\n",
    "torch.save(hs_cache_no_cot_other_all, os.path.join(save_path, f'{model_name}-base_hs_cache_no_cot_all.pt'))"
   ]
  },
  {
   "cell_type": "code",
   "execution_count": null,
   "id": "7dda444e",
   "metadata": {},
   "outputs": [],
   "source": []
  },
  {
   "cell_type": "code",
   "execution_count": null,
   "id": "fb84d40c",
   "metadata": {},
   "outputs": [],
   "source": []
  },
  {
   "cell_type": "code",
   "execution_count": null,
   "id": "2bcf8dd3",
   "metadata": {},
   "outputs": [],
   "source": []
  }
 ],
 "metadata": {
  "kernelspec": {
   "display_name": "Python py311",
   "language": "python",
   "name": "py311"
  },
  "language_info": {
   "codemirror_mode": {
    "name": "ipython",
    "version": 3
   },
   "file_extension": ".py",
   "mimetype": "text/x-python",
   "name": "python",
   "nbconvert_exporter": "python",
   "pygments_lexer": "ipython3",
   "version": "3.11.13"
  }
 },
 "nbformat": 4,
 "nbformat_minor": 5
}
