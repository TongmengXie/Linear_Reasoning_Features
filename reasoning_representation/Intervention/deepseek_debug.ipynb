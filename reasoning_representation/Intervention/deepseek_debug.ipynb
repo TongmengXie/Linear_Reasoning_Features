 {
 "cells": [
  {
   "cell_type": "markdown",
   "metadata": {},
   "source": [
    "# DeepSeek Debugging Notebook\n",
    "This notebook isolates and debugs all DeepSeek-specific logic, including device and padding issues."
   ]
  },
  {
   "cell_type": "code",
   "metadata": {},
   "source": [
    "import torch\n",
    "from transformers import AutoModelForCausalLM, AutoTokenizer\n",
    "import os\n",
    "model_name = 'DeepSeek-R1-Distill-Qwen-1.5B'  # Change as needed\n",
    "model_dir = '../../models'  # Adjust if needed\n",
    "device = 'cuda:1' if torch.cuda.device_count() > 1 else 'cuda:0'\n",
    "print(f'Using device: {device}')"
   ]
  },
  {
   "cell_type": "code",
   "metadata": {},
   "source": [
    "# Load model and tokenizer\n",
    "model = AutoModelForCausalLM.from_pretrained(\n",
    "    os.path.join(model_dir, model_name),\n",
    "    torch_dtype=torch.float32,\n",
    "    trust_remote_code=True\n",
    ")\n",
    "tokenizer = AutoTokenizer.from_pretrained(os.path.join(model_dir, model_name), trust_remote_code=True)\n",
    "model.to(device)\n",
    "print('Model loaded and moved to', next(model.parameters()).device)"
   ]
  },
  {
   "cell_type": "code",
   "metadata": {},
   "source": [
    "# DeepSeek/Qwen-specific padding handling\n",
    "if ('deepseek' in model_name.lower()) or ('deepseek' in getattr(model.config, 'model_type', '').lower()) or ('qwen' in model_name.lower()) or ('qwen' in getattr(model.config, 'model_type', '').lower()):\n",
    "    if tokenizer.pad_token is None or tokenizer.pad_token_id is None or tokenizer.pad_token_id < 0:\n",
    "        tokenizer.pad_token = tokenizer.eos_token\n",
    "        tokenizer.pad_token_id = tokenizer.eos_token_id\n",
    "    tokenizer.padding_side = 'left'\n",
    "print('pad_token:', tokenizer.pad_token)\n",
    "print('pad_token_id:', tokenizer.pad_token_id)\n",
    "print('padding_side:', tokenizer.padding_side)"
   ]
  },
  {
   "cell_type": "code",
   "metadata": {},
   "source": [
    "# Prepare a minimal batch for testing\n",
    "questions = [\"What is the capital of France?\", \"What is 2+2?\"]\n",
    "inputs = tokenizer(questions, return_tensors='pt', padding='longest', return_token_type_ids=False)\n",
    "inputs['input_ids'] = inputs['input_ids'].to(device)\n",
    "if 'attention_mask' in inputs:\n",
    "    inputs['attention_mask'] = inputs['attention_mask'].to(device)\n",
    "print('input_ids device:', inputs['input_ids'].device)\n",
    "if 'attention_mask' in inputs:\n",
    "    print('attention_mask device:', inputs['attention_mask'].device)"
   ]
  },
  {
   "cell_type": "code",
   "metadata": {},
   "source": [
    "# Try a minimal generation with verbose error catching\n",
    "try:\n",
    "    print('Model device before generation:', next(model.parameters()).device)\n",
    "    gen_tokens = model.generate(**inputs, max_new_tokens=10, do_sample=False)\n",
    "    print('Generation successful!')\n",
    "    print('Generated tokens:', gen_tokens)\n",
    "    print('Decoded:', tokenizer.batch_decode(gen_tokens, skip_special_tokens=True))\n",
    "except Exception as e:\n",
    "    import traceback\n",
    "    print('Generation failed!')\n",
    "    traceback.print_exc()\n",
    "    print('Model device:', next(model.parameters()).device)\n",
    "    print('input_ids device:', inputs['input_ids'].device)\n",
    "    if 'attention_mask' in inputs:\n",
    "        print('attention_mask device:', inputs['attention_mask'].device)\n"
   ]
  }
 ],
 "metadata": {
  "kernelspec": {
   "display_name": "Python 3",
   "language": "python",
   "name": "python3"
  },
  "language_info": {
   "name": "python",
   "version": "3.11"
  }
 },
 "nbformat": 4,
 "nbformat_minor": 2
}
