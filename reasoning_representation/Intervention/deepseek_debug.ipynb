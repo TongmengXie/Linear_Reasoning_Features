{
 "cells": [
  {
   "cell_type": "markdown",
   "metadata": {},
   "source": [
    "# DeepSeek Debugging Notebook\n",
    "This notebook isolates and debugs all DeepSeek-specific logic, including device and padding issues."
   ]
  },
  {
   "cell_type": "code",
   "execution_count": 1,
   "metadata": {},
   "outputs": [
    {
     "name": "stderr",
     "output_type": "stream",
     "text": [
      "/opt/conda/envs/py311/lib/python3.11/site-packages/tqdm/auto.py:21: TqdmWarning: IProgress not found. Please update jupyter and ipywidgets. See https://ipywidgets.readthedocs.io/en/stable/user_install.html\n",
      "  from .autonotebook import tqdm as notebook_tqdm\n"
     ]
    },
    {
     "name": "stdout",
     "output_type": "stream",
     "text": [
      "Using device: cuda:1\n"
     ]
    }
   ],
   "source": [
    "import torch\n",
    "from transformers import AutoModelForCausalLM, AutoTokenizer\n",
    "import os\n",
    "model_name = 'DeepSeek-R1-Distill-Qwen-1.5B'  # Change as needed\n",
    "model_dir = '../../models'  # Adjust if needed\n",
    "device = 'cuda:1' if torch.cuda.device_count() > 1 else 'cuda:0'\n",
    "print(f'Using device: {device}')"
   ]
  },
  {
   "cell_type": "code",
   "execution_count": 2,
   "metadata": {},
   "outputs": [
    {
     "name": "stdout",
     "output_type": "stream",
     "text": [
      "Model loaded and moved to cuda:1\n"
     ]
    }
   ],
   "source": [
    "# Load model and tokenizer\n",
    "model = AutoModelForCausalLM.from_pretrained(\n",
    "    os.path.join(model_dir, model_name),\n",
    "    torch_dtype=torch.float32,\n",
    "    trust_remote_code=True\n",
    ")\n",
    "tokenizer = AutoTokenizer.from_pretrained(os.path.join(model_dir, model_name), trust_remote_code=True)\n",
    "model.to(device)\n",
    "print('Model loaded and moved to', next(model.parameters()).device)"
   ]
  },
  {
   "cell_type": "code",
   "execution_count": 3,
   "metadata": {},
   "outputs": [
    {
     "name": "stdout",
     "output_type": "stream",
     "text": [
      "pad_token: <｜end▁of▁sentence｜>\n",
      "pad_token_id: 151643\n",
      "padding_side: left\n"
     ]
    }
   ],
   "source": [
    "# DeepSeek/Qwen-specific padding handling\n",
    "if ('deepseek' in model_name.lower()) or ('deepseek' in getattr(model.config, 'model_type', '').lower()) or ('qwen' in model_name.lower()) or ('qwen' in getattr(model.config, 'model_type', '').lower()):\n",
    "    if tokenizer.pad_token is None or tokenizer.pad_token_id is None or tokenizer.pad_token_id < 0:\n",
    "        tokenizer.pad_token = tokenizer.eos_token\n",
    "        tokenizer.pad_token_id = tokenizer.eos_token_id\n",
    "    tokenizer.padding_side = 'left'\n",
    "print('pad_token:', tokenizer.pad_token)\n",
    "print('pad_token_id:', tokenizer.pad_token_id)\n",
    "print('padding_side:', tokenizer.padding_side)"
   ]
  },
  {
   "cell_type": "code",
   "execution_count": 6,
   "metadata": {},
   "outputs": [
    {
     "name": "stdout",
     "output_type": "stream",
     "text": [
      "input_ids device: cuda:1\n",
      "attention_mask device: cuda:1\n"
     ]
    }
   ],
   "source": [
    "# Prepare a minimal batch for testing\n",
    "questions = [\"What is the capital of France? Let's think step by step\", \"What is 2+2? Given one number only.\"]\n",
    "inputs = tokenizer(questions, return_tensors='pt', padding='longest', return_token_type_ids=False)\n",
    "inputs['input_ids'] = inputs['input_ids'].to(device)\n",
    "if 'attention_mask' in inputs:\n",
    "    inputs['attention_mask'] = inputs['attention_mask'].to(device)\n",
    "print('input_ids device:', inputs['input_ids'].device)\n",
    "if 'attention_mask' in inputs:\n",
    "    print('attention_mask device:', inputs['attention_mask'].device)"
   ]
  },
  {
   "cell_type": "code",
   "execution_count": 7,
   "metadata": {},
   "outputs": [
    {
     "name": "stderr",
     "output_type": "stream",
     "text": [
      "The following generation flags are not valid and may be ignored: ['temperature', 'top_p']. Set `TRANSFORMERS_VERBOSITY=info` for more details.\n",
      "Setting `pad_token_id` to `eos_token_id`:151643 for open-end generation.\n"
     ]
    },
    {
     "name": "stdout",
     "output_type": "stream",
     "text": [
      "Model device before generation: cuda:1\n",
      "Generation successful!\n",
      "Generated tokens: tensor([[151646,   3838,    374,    279,   6722,    315,   9625,     30,   6771,\n",
      "            594,   1744,   3019,    553,   3019,    624,  32313,     11,    773,\n",
      "            358,   1184,    311,   7071,    700,    279],\n",
      "        [151643, 151646,   3838,    374,    220,     17,     10,     17,     30,\n",
      "          16246,    825,   1372,   1172,     13,   2055,     11,    220,     17,\n",
      "             10,     17,    374,    220,     17,     10]], device='cuda:1')\n",
      "Decoded: [\"What is the capital of France? Let's think step by step.\\nOkay, so I need to figure out the\", 'What is 2+2? Given one number only. So, 2+2 is 2+']\n"
     ]
    }
   ],
   "source": [
    "# Try a minimal generation with verbose error catching\n",
    "try:\n",
    "    print('Model device before generation:', next(model.parameters()).device)\n",
    "    gen_tokens = model.generate(**inputs, max_new_tokens=10, do_sample=False)\n",
    "    print('Generation successful!')\n",
    "    print('Generated tokens:', gen_tokens)\n",
    "    print('Decoded:', tokenizer.batch_decode(gen_tokens, skip_special_tokens=True))\n",
    "except Exception as e:\n",
    "    import traceback\n",
    "    print('Generation failed!')\n",
    "    traceback.print_exc()\n",
    "    print('Model device:', next(model.parameters()).device)\n",
    "    print('input_ids device:', inputs['input_ids'].device)\n",
    "    if 'attention_mask' in inputs:\n",
    "        print('attention_mask device:', inputs['attention_mask'].device)\n"
   ]
  }
 ],
 "metadata": {
  "kernelspec": {
   "display_name": "Python py311",
   "language": "python",
   "name": "py311"
  },
  "language_info": {
   "codemirror_mode": {
    "name": "ipython",
    "version": 3
   },
   "file_extension": ".py",
   "mimetype": "text/x-python",
   "name": "python",
   "nbconvert_exporter": "python",
   "pygments_lexer": "ipython3",
   "version": "3.11.13"
  }
 },
 "nbformat": 4,
 "nbformat_minor": 4
}
